{
 "cells": [
  {
   "cell_type": "code",
   "execution_count": 4,
   "metadata": {},
   "outputs": [],
   "source": [
    "import cv2\n",
    "import matplotlib.pyplot as plt\n",
    "import imutils\n",
    "from img_processing import find_Face, get_Contour, get_Sckeleton, generate_Mask, get_Measurement\n",
    "import numpy as np\n",
    "from imutils import perspective\n",
    "from imutils import contours\n",
    "# from scipy.spatial import distance as dist"
   ]
  },
  {
   "cell_type": "code",
   "execution_count": 9,
   "metadata": {},
   "outputs": [],
   "source": [
    "img = cv2.imread('./images/aman1.jpg')\n",
    "res = generate_Mask(img)"
   ]
  },
  {
   "cell_type": "code",
   "execution_count": 10,
   "metadata": {},
   "outputs": [
    {
     "name": "stdout",
     "output_type": "stream",
     "text": [
      "170.0 54.29032258064516 54.29032258064516 54.29032258064516\n"
     ]
    }
   ],
   "source": [
    "face = find_Face(res)\n",
    "contour = get_Contour(res)\n",
    "keypoint = get_Sckeleton(img,res)\n",
    "hg,c,hp,wi = get_Measurement(img, 170)\n",
    "print(hg,c,hp,wi)\n",
    "# print(keypoint[1][0],keypoint[0,1])\n",
    "# print(keypoint)\n",
    "# points_1d = keypoint.flatten()\n",
    "# print(points_1d)\n",
    "# print(points_1d[1])\n"
   ]
  },
  {
   "cell_type": "code",
   "execution_count": null,
   "metadata": {},
   "outputs": [],
   "source": []
  }
 ],
 "metadata": {
  "kernelspec": {
   "display_name": "myenv",
   "language": "python",
   "name": "python3"
  },
  "language_info": {
   "codemirror_mode": {
    "name": "ipython",
    "version": 3
   },
   "file_extension": ".py",
   "mimetype": "text/x-python",
   "name": "python",
   "nbconvert_exporter": "python",
   "pygments_lexer": "ipython3",
   "version": "3.9.16"
  },
  "orig_nbformat": 4
 },
 "nbformat": 4,
 "nbformat_minor": 2
}
